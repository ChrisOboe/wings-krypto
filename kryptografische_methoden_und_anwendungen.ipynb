{
 "cells": [
  {
   "cell_type": "code",
   "execution_count": 1,
   "id": "0a1cd393",
   "metadata": {},
   "outputs": [],
   "source": [
    "# EXECUTE THIS BLOCK FIRST FOR INITIALISATION!\n",
    "\n",
    "# dependencies\n",
    "# ==========\n",
    "# jupyter_server_mathjax\n",
    "# ipywidget\n",
    "# ipysheet\n",
    "# matplotlib\n",
    "\n",
    "from ipywidgets import interactive,widgets\n",
    "from IPython.display import display,Math,HTML\n",
    "from matplotlib import pyplot\n",
    "import ipysheet\n",
    "from ipysheet import calculation\n",
    "import math\n",
    "import decimal\n",
    "import pandas"
   ]
  },
  {
   "cell_type": "markdown",
   "id": "94f87def-4623-4fad-a718-4e7f675abec1",
   "metadata": {
    "tags": []
   },
   "source": [
    "# Theoretische Grundlagen"
   ]
  },
  {
   "cell_type": "markdown",
   "id": "85f53e4d-6836-4d14-9b72-27b2a2f2b614",
   "metadata": {
    "jp-MarkdownHeadingCollapsed": true,
    "tags": []
   },
   "source": [
    "## Zuordnung kryptografische Mechanismen zu Schutzzielen\n",
    "\n",
    "Mechnismus       | Beispiele                       | Vertraulichkeit | Integritaet | Authentizitaet | Verbindlichkeit | Verfuegbarkeit \n",
    "----------------:|--------------------------------:|:---------------:|:-----------:|:--------------:|:---------------:|:--------------:\n",
    "Hash-Funktion    |MD5,SHA-1, SHA256                |                 | X           |                |                 |\n",
    "MAC              |HMAC                             |                 | X           | X              |                 |\n",
    "Verschluesselung |RSA,ElGamal,Transpositionschiffre| X               |             |                |                 |\n",
    "Signaturen       |RSA,ElGamal                      |                 | X           | X              | X               |"
   ]
  },
  {
   "cell_type": "markdown",
   "id": "50966853-1ab0-4020-b95e-b38c4ac4b426",
   "metadata": {},
   "source": [
    "## Definition Einwegfunktion\n",
    "\n",
    "Eine Funktion $y = f(x)$ heisst Einwegfunktion wenn gilt:\n",
    "  - Es gibt ein effizientes Verfahren zur Berechnung von $y=f(x)$.\n",
    "  - Es gibt kein effizientes Verfahren zur Berechnung von $x=f^{-1}(y)$."
   ]
  },
  {
   "cell_type": "markdown",
   "id": "1151622a-7df2-4f52-9e33-f45bc80331f8",
   "metadata": {},
   "source": [
    "## Definition Trapdoor Einwegfunktionen\n",
    "\n",
    "- Eine Variante der Einwegfunktion, welche effizient invertierbar ist, wenn man gewisse Zusatzinformationen besitzt."
   ]
  },
  {
   "cell_type": "markdown",
   "id": "ee88325c-0736-40a8-9068-a784bcec7e22",
   "metadata": {
    "tags": []
   },
   "source": [
    "## Symmetrische Verfahren der Verschluesselung\n",
    "\n",
    "- substitutionsalgorithmen\n",
    "    - monoalphabetische chiffre\n",
    "      - additive chiffre\n",
    "\n",
    "        verschluesselung: $e_K(x) = x + K \\mod n$\n",
    "\n",
    "        entschluesselung: $d_K(y) = y - K \\mod n$\n",
    "\n",
    "      - multiplikative chiffre\n",
    "\n",
    "        verschluesselung: $e_K(x) = ax \\mod n$\n",
    "\n",
    "        entschluesselung: $d_K(y) = a^{-1}y \\mod n$\n",
    "\n",
    "        __Obacht:__ $a$ muss teilerfremd zu $n$ sein, da fuer die entschluesselung $a^{-1}$ benoetigt wird.\n",
    "\n",
    "    - polyalphabetische chiffre\n",
    "\n",
    "      => Die haefigkeit der Buchstaben wird verschleiert\n",
    "\n",
    "      __Obacht:__ die Haeufigkeit von Buchstabengruppen wird nicht verschleiert\n",
    "\n",
    "    - one-time-pad\n",
    "\n",
    "      => Perfekt, wenn key wirklich zufaellig und gleich gross wie klartext ist\n",
    "\n",
    "- Transpositionschiffren\n",
    "\n",
    "  => Die position der zeichen wird getauscht\n",
    "  "
   ]
  },
  {
   "cell_type": "markdown",
   "id": "c85e44f1-3bb1-4290-80db-1ebeb1bad864",
   "metadata": {},
   "source": [
    "## Asymetrische Verfahren"
   ]
  },
  {
   "cell_type": "markdown",
   "id": "0c341612-5d83-4a78-a565-8e38c3c7d62d",
   "metadata": {},
   "source": [
    "### RSA"
   ]
  },
  {
   "cell_type": "markdown",
   "id": "e3d8868b-e8ee-4e15-995d-49071a37a617",
   "metadata": {},
   "source": [
    "#### Mathematische Grundlage\n",
    "- Basiert auf dem Faktorisierungsproblem"
   ]
  },
  {
   "cell_type": "markdown",
   "id": "e7d201ff-9059-4a37-bbe3-63e65a3ce1ce",
   "metadata": {},
   "source": [
    "#### Angrifsmoeglichkeiten\n",
    "  - Public-Key-Only-Attacke\n",
    "  - Chosen-Ciphertext-Attacke\n",
    "  - Chosen-Plaintext angriffe\n",
    "  \n",
    "  => Der private Schluessel kann aus dem oeffentlichen berechnet werden, wenn $\\phi(n)$ oder $n=p \\cdot q$ aus $n$ ermittelt werden koennen.\n",
    "  \n",
    "  - Bruteforce\n",
    "     - Nur bei kurzen Schluessellaengen moeglich, weil extrem aufwendig. \n",
    "     \n",
    "  - MITM \n",
    "     - Falls keine Signatur verwendet wird kann der Angreifer sich zu beginn der Kommunikation als eigentlicher Kommunikationspartner ausgeben."
   ]
  },
  {
   "cell_type": "markdown",
   "id": "f1c7adcd-2cc0-4644-8e3b-5425fd5df90f",
   "metadata": {},
   "source": [
    "### ElGamal"
   ]
  },
  {
   "cell_type": "markdown",
   "id": "3b186eea-5f2d-424f-ba9b-1237fdd4c129",
   "metadata": {},
   "source": [
    "#### Mathematische Grundlage\n",
    "- Basiert auf dem diskreten Logarithmus Problem"
   ]
  },
  {
   "cell_type": "markdown",
   "id": "f995b870-78aa-4ee1-bb75-540232e96f37",
   "metadata": {
    "tags": []
   },
   "source": [
    "# Mathematische Grundlagen"
   ]
  },
  {
   "cell_type": "markdown",
   "id": "49d7a159-c99d-4c08-adf8-b7529be26147",
   "metadata": {
    "tags": []
   },
   "source": [
    "## Gruppen auf endlichen Mengen"
   ]
  },
  {
   "cell_type": "markdown",
   "id": "0c43245a-070b-4a89-a277-a5ae12e160cb",
   "metadata": {
    "tags": []
   },
   "source": [
    "### Additive Gruppe"
   ]
  },
  {
   "cell_type": "markdown",
   "id": "4f6a2176-3cb5-45cd-b008-e47482183abc",
   "metadata": {
    "jp-MarkdownHeadingCollapsed": true,
    "tags": []
   },
   "source": [
    "#### Definition\n",
    "\n",
    "$\\underline{G} = \\{0, 1, 2, 3, ..., m-1\\}$, wobei $m > 0$\n",
    "\n",
    "$a \\oplus b = r$\n",
    "\n",
    "$\\frac{a+b}{m}=q+\\frac{r}{m} $$\\iff$$ a + b = q \\cdot m + r $\n"
   ]
  },
  {
   "cell_type": "markdown",
   "id": "c84fb049-e2a2-42fc-b140-58ab1858ac8e",
   "metadata": {
    "jp-MarkdownHeadingCollapsed": true,
    "tags": []
   },
   "source": [
    "#### Addition"
   ]
  },
  {
   "cell_type": "code",
   "execution_count": 2,
   "id": "4fc2fb4b-6a02-412b-a38a-d9f2836e21c3",
   "metadata": {},
   "outputs": [
    {
     "data": {
      "application/vnd.jupyter.widget-view+json": {
       "model_id": "4b72d350637c42b68917c55ec12eca16",
       "version_major": 2,
       "version_minor": 0
      },
      "text/plain": [
       "interactive(children=(IntText(value=5, description='m:'), IntText(value=2, description='a:'), IntText(value=4,…"
      ]
     },
     "metadata": {},
     "output_type": "display_data"
    }
   ],
   "source": [
    "def gadd(m,a,b):\n",
    "    out = (a+b)%m\n",
    "    display(Math(\"m=\"+str(m)+\":\"+str(a)+\"\\oplus\" +str(b)+\"=\"+str(out)))\n",
    "    return out\n",
    "\n",
    "w = interactive(\n",
    "    gadd,\n",
    "    m=widgets.IntText(value=5, description=\"m:\"),\n",
    "    a=widgets.IntText(value=2, description=\"a:\"),\n",
    "    b=widgets.IntText(value=4, description=\"b:\"),\n",
    ")\n",
    "\n",
    "display(w)\n",
    "\n"
   ]
  },
  {
   "cell_type": "markdown",
   "id": "edee19e0-55ec-4245-8a6f-12c713463308",
   "metadata": {
    "tags": []
   },
   "source": [
    "#### Additiv inverses Element\n",
    "\n",
    "$a \\oplus (-a) = a \\oplus (m - a) = 0$\n",
    "$\\iff$\n",
    "$\\frac{a+(m-a)}{m}=1+\\frac{0}{m}$"
   ]
  },
  {
   "cell_type": "markdown",
   "id": "86f3387e-59dd-4ca6-9d5b-5be122428ec0",
   "metadata": {
    "tags": []
   },
   "source": [
    "### Multiplikative Gruppe"
   ]
  },
  {
   "cell_type": "markdown",
   "id": "b3d3881d-9967-4792-a5e0-574781c91507",
   "metadata": {},
   "source": [
    "#### Definition\n",
    "\n",
    "$\\underline{G} = \\{0, 1, 2, 3, ..., p-1\\}$, wobei $p$ eine Primzahl ist.\n",
    "\n",
    "$a \\odot b = r$\n",
    "\n",
    "$\\frac{a \\cdot b}{p}=q+\\frac{r}{p} $$\\iff$$ a \\cdot b = q \\cdot p + r $\n"
   ]
  },
  {
   "cell_type": "markdown",
   "id": "66747c0b-f183-41f2-9f20-51d689f4146f",
   "metadata": {
    "tags": []
   },
   "source": [
    "#### Multiplikation"
   ]
  },
  {
   "cell_type": "code",
   "execution_count": 3,
   "id": "a8240fa9-52b9-492e-9779-ae4a2dd70ed4",
   "metadata": {},
   "outputs": [
    {
     "data": {
      "application/vnd.jupyter.widget-view+json": {
       "model_id": "726932c662ae47d2a4977abfb7eb10c9",
       "version_major": 2,
       "version_minor": 0
      },
      "text/plain": [
       "interactive(children=(IntText(value=5, description='p:'), IntText(value=2, description='a:'), IntText(value=2,…"
      ]
     },
     "metadata": {},
     "output_type": "display_data"
    }
   ],
   "source": [
    "def gmul(p,a,b):\n",
    "    out = (a*b)%p\n",
    "    display(Math('p='+str(p)+':'+str(a)+'\\cdot'+str(b)+'='+str(out)))\n",
    "    return out\n",
    "\n",
    "w = interactive(\n",
    "    gmul,\n",
    "    p=widgets.IntText(value=5, description=\"p:\"),\n",
    "    a=widgets.IntText(value=2, description=\"a:\"),\n",
    "    b=widgets.IntText(value=2, description=\"b:\"),\n",
    ")\n",
    "\n",
    "display(w)"
   ]
  },
  {
   "cell_type": "markdown",
   "id": "988e0b69-b734-4bfe-aede-ee29201e149f",
   "metadata": {
    "tags": []
   },
   "source": [
    "#### Multiplikativ inverses Element\n",
    "\n",
    "$ c \\odot a = a \\odot c = 1 $$\\iff$$ c \\cdot a = q \\cdot p + 1$"
   ]
  },
  {
   "cell_type": "code",
   "execution_count": 6,
   "id": "eae0d662-edd6-4435-9ebf-6dbc67e14542",
   "metadata": {
    "tags": []
   },
   "outputs": [
    {
     "data": {
      "application/vnd.jupyter.widget-view+json": {
       "model_id": "47449207ac904fc39ea5314cb7ae3c19",
       "version_major": 2,
       "version_minor": 0
      },
      "text/plain": [
       "interactive(children=(IntText(value=5, description='n:'), IntText(value=2, description='a:'), Output()), _dom_…"
      ]
     },
     "metadata": {},
     "output_type": "display_data"
    }
   ],
   "source": [
    "table = []\n",
    "\n",
    "def mulInv(n, a, depth =  1):\n",
    "    table.append({\"n\": n, \"a\": a, \"q\": int(n/a), \"r\": n%a})\n",
    "    if n%a == 0:\n",
    "        return depth\n",
    "    return mulInv(a, n%a, depth+1)\n",
    "                  \n",
    "def calcXy():\n",
    "    \n",
    "    first = True\n",
    "    lastY = 1\n",
    "    for i in reversed(table):\n",
    "        if first:\n",
    "            i['x'] = 0\n",
    "            i['y'] = 1\n",
    "            first = False\n",
    "        else:\n",
    "            i['x'] = lastY\n",
    "            i['y'] = (1-i['n']*i['x'])/i['a']\n",
    "            lastY = i['y']\n",
    "\n",
    "def getAInverse():\n",
    "    row = table[0]\n",
    "\n",
    "    display(Math(str(row['n']) + '\\cdot' + str(row['x']) + '+' + str(row['a']) + '\\cdot' + str(row['y']) + '=1 \\mod ' + str(row['n'])))\n",
    "    display(Math('a \\cdot a^{-1} = 1'))\n",
    "    display(Math(str(row['a']) + '\\cdot a^{-1} = 1'))\n",
    "    display(Math(str(row['a']) + '\\cdot' + str(row['y']) + '=1'))\n",
    "    \n",
    "    if (row['y'] > 0):\n",
    "        return row['y']\n",
    "    else:\n",
    "        return row['n']+row['y']\n",
    "            \n",
    "def printTable():\n",
    "    d = pandas.DataFrame.from_dict(table)\n",
    "    display(d)\n",
    "\n",
    "\n",
    "def doFun(n,a):\n",
    "    table.clear()\n",
    "    mulInv(n,a)\n",
    "    calcXy()\n",
    "    display(Math('nx+ay=1'))\n",
    "    display(Math('y=\\\\frac{1-nx}{a}'))\n",
    "    printTable()\n",
    "    display(Math('a^{-1} =' + str(getAInverse())))\n",
    "    \n",
    "    \n",
    "w = interactive(\n",
    "    doFun,\n",
    "    n=widgets.IntText(value=5, description=\"n:\"),\n",
    "    a=widgets.IntText(value=2, description=\"a:\"),\n",
    ")\n",
    "\n",
    "display(w)"
   ]
  },
  {
   "cell_type": "markdown",
   "id": "7ff4ad75-4fdf-48cb-b2a1-0194543a5b97",
   "metadata": {
    "tags": []
   },
   "source": [
    "### Definition Zahlenkoerper\n",
    "\n",
    "Die Menge $\\underline{F}$ sei ein Zahlenkoerper bezueglich der Verknuepfungen $\\oplus$ und $\\odot$, wenn folgende Bedingungen erfuellt sind. \n",
    "\n",
    "  1. $\\underline{F}$ ist bezueglich $\\oplus$ eine additive Gruppe. Das Identitaetselement dieser Gruppe sei das Nullelement.\n",
    "  2. Die von Null verschiedenen Elemente von $\\underline{F}$  bilden eine multiplikative Gruppe bezueglich $\\odot$. Das Identitaetselement dieser Gruppe sei das Einselement.\n",
    "  3. Die Multiplication $\\odot$ ist distributiv bezueglich der Addition $\\oplus$, so dass gilt $a \\odot (b \\oplus c) = (a \\odot b)\\oplus(a \\odot c)$ fuer $a, b, c \\in \\underline{F}$"
   ]
  },
  {
   "cell_type": "markdown",
   "id": "bfb1bc39-4fe7-4cfb-ac9d-36ec5f04f9b1",
   "metadata": {
    "tags": []
   },
   "source": [
    "### Modulare reduktion"
   ]
  },
  {
   "cell_type": "markdown",
   "id": "026c2351-6ef6-418d-869c-af32b6cc2a7c",
   "metadata": {
    "tags": []
   },
   "source": [
    "#### Beispiel\n",
    "\n",
    "$g^{a+b} = g^b \\cdot g^b$\n",
    "\n",
    "$17^{23} \\mod 26$\n",
    "\n",
    "aufsplitten funktioniert nur wenn $g^a > p$ \n",
    "\n",
    "$17^{23} = 17^4 \\cdot 17^4 \\cdot 17^4 \\cdot 17^4 \\cdot 17^4 \\cdot 17^4 \\cdot 17^1 = $\n",
    "\n",
    "$17^4 \\mod 26 = 9$\n",
    "\n",
    "$17^{23} = 9 \\cdot 9 \\cdot 9 \\cdot 9 \\cdot 9 \\cdot 9 \\cdot 17 = 9^3 \\cdot 9^3 \\cdot 17$\n",
    "\n",
    "$9^3 \\mod 26 = 1$\n",
    "\n",
    "$17^{23} = 1 \\cdot 1 \\cdot 17$"
   ]
  },
  {
   "cell_type": "markdown",
   "id": "4b256e2e-e489-4f3f-905b-ab29d74b4f32",
   "metadata": {
    "tags": []
   },
   "source": [
    "#### Code"
   ]
  },
  {
   "cell_type": "code",
   "execution_count": 12,
   "id": "6973bcfc-08eb-4f12-90fe-9ab2a828c0d5",
   "metadata": {},
   "outputs": [
    {
     "data": {
      "application/vnd.jupyter.widget-view+json": {
       "model_id": "3509de8419a1489e8320fe922ab598b1",
       "version_major": 2,
       "version_minor": 0
      },
      "text/plain": [
       "interactive(children=(IntText(value=5, description='a:'), IntText(value=2, description='a:'), IntText(value=5,…"
      ]
     },
     "metadata": {},
     "output_type": "display_data"
    }
   ],
   "source": [
    "def modRed(g, a, p, reduceTo):\n",
    "    display(Math(str(g) +'^{' + str(a) + '} \\mod ' + str(p)))\n",
    "    display(Math('\\iff'))\n",
    "    \n",
    "    np = int(a / reduceTo)\n",
    "    nl = a % reduceTo\n",
    "\n",
    "    string = ''\n",
    "    for i in range(np):\n",
    "        string += str(g) + '^' + str(reduceTo) + ' \\mod ' + str(p) + ' \\cdot '\n",
    "    string += str(g) + '^{' + str(nl) + '} \\mod ' + str(p)\n",
    "    display(Math(string))\n",
    "    \n",
    "    reduced = (g**reduceTo)%p\n",
    "    display(Math(str(g) + '^' + str(reduceTo) + ' \\mod ' + str(p) + ' = ' + str(reduced))) \n",
    "    reduced2 = (g**nl)%p\n",
    "    display(Math(str(g) + '^{' + str(nl) + '} \\mod ' + str(p) + ' = ' + str(reduced2)))\n",
    "    \n",
    "    result = (reduced**np*reduced2)%p\n",
    "    display(Math(str(reduced) + '^{' + str(np) + '} \\cdot ' + str(reduced2) + ' \\mod ' + str(p) + ' = ' + str(result)))\n",
    "          \n",
    "w = interactive(\n",
    "    modRed,\n",
    "    g=widgets.IntText(value=5, description=\"a:\"),\n",
    "    a=widgets.IntText(value=2, description=\"a:\"),\n",
    "    p=widgets.IntText(value=5, description=\"p:\"),\n",
    "    reduceTo=widgets.IntText(value=2, description=\"recude to:\"),\n",
    ")  \n",
    "\n",
    "display(w)\n",
    "\n",
    "          "
   ]
  },
  {
   "cell_type": "markdown",
   "id": "10c43ea3-2471-43aa-ae47-794148fd49ff",
   "metadata": {
    "jp-MarkdownHeadingCollapsed": true,
    "tags": []
   },
   "source": [
    "### Eulersche $\\phi$-Funktion\n",
    "\n",
    "#### Satz von Euler\n",
    "Fuer eine gegebene natuerliche Zahl $n$ gilt:\n",
    "\n",
    "$a^{\\phi(n)} = a^0 = 1 \\mod n$ fuer $a>0$ und $ggT(n,a)=1$\n",
    "\n",
    "Der Satz gilt fuer alle positiven und ganzzahligen Werte von $a$, die teilerfremd zu $n$ sind.\n",
    "\n",
    "- Der Satz von Euler kann genutzt werden um das multiplikativ inverse Element $a^{-1}$ zu berechnen.\n",
    "\n",
    "=> auf dem Exponenten kann modulo $\\phi(n)$ gerechnet werden:\n",
    "\n",
    "$a^{j \\cdot \\phi(n)) \\mod \\phi(n)} = a^0 = 1 \\mod n$\n",
    "\n",
    "Unter der Annahme, dass $n$ eine Primzahl ist und $\\phi(n) = n - 1$ gilt, muss gelten:\n",
    "\n",
    "$a^{n-1} = 1 \\mod n$ fuer $a>0$ und $ggT(n,a)=1$\n",
    "\n"
   ]
  },
  {
   "cell_type": "markdown",
   "id": "7ede12e1-0b23-4eaf-a292-0cdff2907533",
   "metadata": {
    "jp-MarkdownHeadingCollapsed": true,
    "tags": []
   },
   "source": [
    "## GGT berechnen"
   ]
  },
  {
   "cell_type": "code",
   "execution_count": null,
   "id": "23b35c12-433b-4b91-88b6-065e34480c6d",
   "metadata": {
    "tags": []
   },
   "outputs": [],
   "source": [
    "def ggt_v01(x, y):\n",
    "    while x > 0 and y > 0:\n",
    "        if x >= y:\n",
    "            x = x - y\n",
    "        else:\n",
    "            y = y - x\n",
    "    return x+y\n",
    "\n",
    "def ggt_v02(x, y):\n",
    "    rest = 1\n",
    "    while rest != 0: \n",
    "        if x >= y:\n",
    "            rest = x % y\n",
    "            x = y\n",
    "            y = rest\n",
    "            ggt = x\n",
    "        else:\n",
    "            rest = y % x\n",
    "            y = x\n",
    "            x = rest\n",
    "            ggt=y\n",
    "    return ggt\n",
    "\n",
    "def ggt(x,y):\n",
    "    \n",
    "\n",
    "\n",
    "p = int (decimal.Decimal (input (\"Zahl 1:\")))\n",
    "q = int (decimal.Decimal (input (\"Zahl 2:\")))\n",
    "\n",
    "print(\"GGT Ansatz 1:\",ggt_v01(p,q))\n",
    "print(\"GGT Ansatz 2:\",ggt_v02(p,q))\n"
   ]
  },
  {
   "cell_type": "markdown",
   "id": "863cd5e9-0bf3-4115-bf59-263177fb92a3",
   "metadata": {
    "tags": []
   },
   "source": [
    "# Symetrische Kryptographie"
   ]
  },
  {
   "cell_type": "markdown",
   "id": "2d959e13-cd31-4ac4-8427-d8397b55a40e",
   "metadata": {
    "tags": []
   },
   "source": [
    "## Caesar"
   ]
  },
  {
   "cell_type": "markdown",
   "id": "e4986c2d-ef51-400a-80fd-f12b9070285b",
   "metadata": {
    "tags": []
   },
   "source": [
    "### Verschluesselung"
   ]
  },
  {
   "cell_type": "code",
   "execution_count": null,
   "id": "4bc9e187-8f81-48a9-8e1d-d5ef78aa5d51",
   "metadata": {},
   "outputs": [],
   "source": [
    "key = int(input(\"Schluessel:\"))\n",
    "text = input(\"Klartext:\").upper()\n",
    "\n",
    "verschluesselter_text=\"\"\n",
    "for zeichen in text:\n",
    "    zahl = ord(zeichen)\n",
    "    neue_zahl = zahl + key\n",
    "    if neue_zahl > ord('Z'):\n",
    "        neue_zahl = neue_zahl - 26\n",
    "    neuesZeichen = chr(neue_zahl)\n",
    "    verschluesselter_text = verschluesselter_text + neuesZeichen\n",
    "# Ausgabe\n",
    "print(verschluesselter_text)"
   ]
  },
  {
   "cell_type": "markdown",
   "id": "5203d823-33ad-4dde-9a06-b8b6202dc3a2",
   "metadata": {
    "tags": []
   },
   "source": [
    "### Entschluesselung"
   ]
  },
  {
   "cell_type": "code",
   "execution_count": null,
   "id": "4381adc7-a80a-4de6-89c2-6ee578ade81a",
   "metadata": {},
   "outputs": [],
   "source": [
    "key = int(input(\"Schluessel:\"))\n",
    "text = input(\"Geheimtext:\").upper()\n",
    "\n",
    "decrypted = \"\"\n",
    "for zeichen in text:\n",
    "    zahl = ord(zeichen)\n",
    "    neue_zahl = zahl - key\n",
    "    if neue_zahl < ord('A'):\n",
    "        neue_zahl = neue_zahl + 26\n",
    "    if neue_zahl == 58:\n",
    "        neue_zahl = 32\n",
    "    neuesZeichen = chr(neue_zahl)\n",
    "    decrypted = decrypted + neuesZeichen\n",
    "# Ausgabe\n",
    "print(decrypted)\n"
   ]
  },
  {
   "cell_type": "markdown",
   "id": "f8b69c65-756a-44b5-8f68-d84f6b88151f",
   "metadata": {
    "tags": []
   },
   "source": [
    "## Transpositionschiffre"
   ]
  },
  {
   "cell_type": "markdown",
   "id": "eda414d8-7258-473e-ba3f-c7d8a18e0fb7",
   "metadata": {
    "tags": []
   },
   "source": [
    "### Spaltentransposition"
   ]
  },
  {
   "cell_type": "code",
   "execution_count": null,
   "id": "a3e0e957-c61f-43b8-91f3-25d447ce3362",
   "metadata": {},
   "outputs": [],
   "source": [
    "import IPython.display\n",
    "import pandas\n",
    "\n",
    "inp = input(\"Geheimtext:\")\n",
    "spalten = int(input(\"Spalten:\"))\n",
    "\n",
    "rows = int(len(inp)/spalten)\n",
    "Matrix = []\n",
    "Matrix.clear()\n",
    "Matrix = [[0 for x in range(spalten)] for y in range(rows)] \n",
    "\n",
    "c = 0\n",
    "for char in inp:\n",
    "    column = int(c / rows)\n",
    "    row = int(c% rows+1)-1\n",
    "    Matrix[row][column] = char\n",
    "    c += 1\n",
    "\n",
    "d = pandas.DataFrame.from_dict(Matrix)\n",
    "display(d)"
   ]
  },
  {
   "cell_type": "code",
   "execution_count": null,
   "id": "93bad1fe-6061-48ac-8dc6-c1d5d2462adb",
   "metadata": {},
   "outputs": [],
   "source": [
    "import numpy as np\n",
    "\n",
    "text = input('Eingabe Geheimtext: ')\n",
    "# leere Liste für Geheimtext\n",
    "t = []*len(text)\n",
    "# wandle Geheimtext in Liste um\n",
    "for i in text:\n",
    "\tt.append(i)\n",
    "\n",
    "# ermittle die Teiler der Buchstabenanzahl\n",
    "def get_factors(x):\n",
    "\t# leere Liste fuer Faktoren\n",
    "\tf = []\n",
    "\t# durchlaufe Anzahl Buchstaben\n",
    "\tfor i in range(1, x + 1):\n",
    "\t\t# wenn teilbar\n",
    "\t\tif x % i == 0:\n",
    "\t\t\t# erweitere Liste um Teiler\n",
    "\t\t\tf.append(i)\n",
    "\treturn f\n",
    "\n",
    "# erstelle Matrix\n",
    "def get_matrix(t, f):\n",
    "\t# entferne Wert 1 und Wert der Buchstabenanzahl\n",
    "\t# 1 Spalte und 1 Zeile wird nicht dargestellt\n",
    "\tf = f[1:]\n",
    "\tf = f[:-1]\n",
    "\t# fuer Anzahl Spalten\n",
    "\tfor col in f:\n",
    "\t\t# leerer String fuer Darstellung\n",
    "\t\ts = \"\"\n",
    "\t\t# Zeilen = Anzahl / Spalten\n",
    "\t\trow = int(len(t) / col)\n",
    "\t\tprint('\\nSpalten:', col,', Zeilen:',row)\n",
    "\t\t# erstelle Matrix aus Liste\n",
    "\t\tm = np.asarray(t).reshape(col, row).T\n",
    "\t\tprint('Matrix:')\n",
    "\t\t# durchlaufe Anzahl der Zeilen\n",
    "\t\tfor r in range(row):\n",
    "\t\t\t# Ausgabe der Spalteninhalte\n",
    "\t\t\tfor c in range(col):\n",
    "\t\t\t\tprint(m[r][c], end = \" \")\n",
    "\t\t\t\ts = s + m[r][c]\n",
    "\t\t\tprint()\n",
    "\t\t# Ausgabe des moeglichen Klartextes\n",
    "\t\tprint('\\nString:\\n'+s)\n",
    "\t\tprint('\\n-----')\n",
    "\n",
    "get_matrix(t, get_factors(len(text)))\n"
   ]
  },
  {
   "cell_type": "markdown",
   "id": "7287a56f-7bfe-49d2-969a-a00e18e3da63",
   "metadata": {
    "tags": []
   },
   "source": [
    "## Angriffe"
   ]
  },
  {
   "cell_type": "markdown",
   "id": "d7b677a6-6d44-4ec4-96a7-2f40444db538",
   "metadata": {
    "tags": []
   },
   "source": [
    "### Haeufigkeitsanalse"
   ]
  },
  {
   "cell_type": "code",
   "execution_count": null,
   "id": "01895e1c-72e6-48a7-b46e-84012ccf6ecd",
   "metadata": {
    "tags": []
   },
   "outputs": [],
   "source": [
    "import numpy as np\n",
    "import matplotlib.pyplot as plt\n",
    "\n",
    "\n",
    "filename = input (\"Filename bitte:\")       # unsere Files Klartext und encrypted aus Wireshark\n",
    "infile   = open(filename, \"r\")\n",
    "s0       = infile.read()                   # die Datei ist in der Zeichenkette s0 gespeichert\n",
    "s        = s0.lower()                      # alle die Grossbuchstaben werden klein geschrieben\n",
    "infile.close()\n",
    "\n",
    "a_ASCII = ord('a')\n",
    "absolute_haeufigkeit = [0]*26\n",
    "anz_buchstaben = 0\n",
    "\n",
    "for x in s:\n",
    "    if x.isalpha():                 # x ist ein Charakter\n",
    "        absolute_haeufigkeit[ord(x) - a_ASCII] += 1\n",
    "        anz_buchstaben                         += 1\n",
    "\n",
    "graphx =[]\n",
    "for i in range(26):\n",
    "    graphx.append(chr(a_ASCII + i))\n",
    "    if absolute_haeufigkeit[i] == 0:\n",
    "        print(chr(a_ASCII + i) + \" taucht nicht auf!\\t\\t\" + \n",
    "              \"{0: >6.3f}\".format(absolute_haeufigkeit[i]/anz_buchstaben) + \"%\")\n",
    "    elif absolute_haeufigkeit[i] == 1:\n",
    "        print(chr(a_ASCII + i) + \" taucht 1 Mal auf:\\t\" + \n",
    "              \"{0: >6.3f}\".format(absolute_haeufigkeit[i]/anz_buchstaben) + \"%\")\n",
    "    else:\n",
    "        print(chr(a_ASCII + i) + \" taucht \" + str(absolute_haeufigkeit[i]) + \" Mal:\\t\" + \n",
    "              \"{0: >6.3f}\".format(100*absolute_haeufigkeit[i]/anz_buchstaben) + \"%\")\n",
    "\n",
    "print(\"\\nGesamtzahl der Buchstaben:\", anz_buchstaben)\n",
    "\n",
    "print (\"\\nBuchstabe\", chr(a_ASCII + np.argmax(absolute_haeufigkeit)), \"mit einer Häufigkeit von\",np.max(absolute_haeufigkeit))\n",
    "\n",
    "plt.bar(graphx,absolute_haeufigkeit)\n",
    "plt.show()"
   ]
  },
  {
   "cell_type": "markdown",
   "id": "b3c91046-3c1c-462c-9ae6-8a77ab22b05d",
   "metadata": {
    "tags": []
   },
   "source": [
    "# Asymetrische Kryptographie"
   ]
  },
  {
   "cell_type": "markdown",
   "id": "17b902bb-faa6-457d-9be9-8b29a2e0e996",
   "metadata": {
    "tags": []
   },
   "source": [
    "## Diffie-Hellman Schlüsselaustausch"
   ]
  },
  {
   "cell_type": "markdown",
   "id": "598658b6-a403-4e57-9327-44f853aeb864",
   "metadata": {},
   "source": [
    "### Definition\n",
    "\n",
    "Alice und Bob vereinbaren Modul $p$ und Basis $g$\n",
    "\n",
    "Alice:\n",
    " - Erstellt (geheim): $a$\n",
    " - Berechnet: $\\alpha = g^a \\mod p$\n",
    " - Sendet $\\alpha$ zu Bob\n",
    " - Empängt $\\beta$ von Bob\n",
    " - Berechnet: $\\beta^a \\mod p$\n",
    "\n",
    "Bob:\n",
    " - Erstellt (geheim): $b$\n",
    " - Berechnet: $\\beta = g^b \\mod p$\n",
    " - Sendet $\\beta$ zu Alice\n",
    " - Empängt $\\alpha$ von Alice\n",
    " - Berechnet: $\\alpha^b \\mod p$\n",
    " \n",
    " $K = g^{a \\cdot b} \\mod p = \\beta^a \\mod p = \\alpha^b \\mod p$"
   ]
  },
  {
   "cell_type": "markdown",
   "id": "fdb7a2f0-ed4b-4ae0-ab3f-8288f81d3faa",
   "metadata": {
    "tags": []
   },
   "source": [
    "### Code"
   ]
  },
  {
   "cell_type": "code",
   "execution_count": null,
   "id": "139acc88-48d9-4be0-9b06-c825aaccd095",
   "metadata": {},
   "outputs": [],
   "source": [
    "from IPython.display import Math,HTML\n",
    "import math\n",
    "import decimal\n",
    "\n",
    "p = int (decimal.Decimal (input (\"p:\")))\n",
    "g = int (decimal.Decimal (input (\"g:\")))\n",
    "a = int (decimal.Decimal (input (\"a:\")))\n",
    "b = int (decimal.Decimal (input (\"b:\")))\n",
    "\n",
    "def calc(g,a,p):\n",
    "    return (g**a)%p\n",
    "\n",
    "alpha = calc(g,a,p)\n",
    "display(Math('\\\\alpha = ' + str(g) + '^{' + str(a) + '} \\mod ' + str(p) + ' = ' + str(alpha)))\n",
    "beta = calc(g,b,p)\n",
    "display(Math('\\\\beta = ' + str(g) + '^{' + str(b) + '} \\mod ' + str(p) + ' = ' + str(beta)))\n",
    "alpha_b = calc(alpha,b,p)\n",
    "display(Math('K_1 = ' + str(alpha) + '^{' + str(b) + '} \\mod ' + str(p) + ' = ' + str(alpha_b)))\n",
    "beta_a = calc(beta,a,p)\n",
    "display(Math('K_2 = ' + str(beta) + '^{' + str(a) + '} \\mod ' + str(p) + ' = ' + str(beta_a)))\n",
    "\n",
    "if (alpha_b == beta_a):\n",
    "    display(Math('K_= ' + str(beta_a) ))\n",
    "        \n",
    "        \n",
    "print(13**77%23)"
   ]
  },
  {
   "cell_type": "markdown",
   "id": "5f3d4bcc-54d8-40ef-9d4e-e94b9ddf3762",
   "metadata": {
    "tags": []
   },
   "source": [
    "## ElGamal Schluesselvereinbarung"
   ]
  },
  {
   "cell_type": "markdown",
   "id": "82323e8d-6168-4660-8058-2a0c93aca5c3",
   "metadata": {
    "tags": []
   },
   "source": [
    "### Definition\n",
    "\n",
    "Alice:\n",
    "  - bekommt $K_{pub} = (p,g,e)$ von Bob\n",
    "  - ueberprueft ob  $K_{pub}$ wirklich zu Bob gehoert\n",
    "  - waehlt Zufallszahl $k$\n",
    "  - Berechnet Sitzungsschluessel $K=e^k \\mod p$\n",
    "  - Berechnet Schluesselwert $a=g^k \\mod p$\n",
    "  - Sendet $a$ an Bob\n",
    "    \n",
    "Bob:\n",
    "  - $K_{pr} = d$\n",
    "  - Empfaengt $a$ von Alice\n",
    "  - Berechnet $K = a^d \\mod p$\n",
    "    \n",
    "Verfikation:\n",
    "    $a^d = g^{d \\cdot k} = e^k = K \\mod p$"
   ]
  },
  {
   "cell_type": "markdown",
   "id": "bb204591-498e-4556-a118-0374b6d08e36",
   "metadata": {
    "tags": []
   },
   "source": [
    "### Schwachstellen\n",
    "\n",
    "- Bob hat keine Sicherheit ueber die Herkunft von $K$, da jeder seinen $K_{pub}$ nutzen kann und $a$ kein Merkmal von Alice enthaelt"
   ]
  },
  {
   "cell_type": "markdown",
   "id": "f4e9d3fb-bc2b-44df-b7c4-16a502bab7a7",
   "metadata": {
    "tags": []
   },
   "source": [
    "### Code"
   ]
  },
  {
   "cell_type": "markdown",
   "id": "4bd09d50-2384-46e5-a9e3-23e662a57a24",
   "metadata": {},
   "source": [
    "#### Alice"
   ]
  },
  {
   "cell_type": "code",
   "execution_count": null,
   "id": "4800132a-7c00-40f5-b41e-e0c4523e8623",
   "metadata": {},
   "outputs": [],
   "source": [
    "from IPython.display import Math,HTML\n",
    "import math\n",
    "import decimal\n",
    "\n",
    "p = int (decimal.Decimal (input (\"p:\")))\n",
    "g = int (decimal.Decimal (input (\"g:\")))\n",
    "e = int (decimal.Decimal (input (\"e:\")))\n",
    "k = int (decimal.Decimal (input (\"k:\")))\n",
    "\n",
    "def calc(a,b,c):\n",
    "    return (a**b)%c\n",
    "\n",
    "K = calc(e,k,p)\n",
    "a = calc(g,k,p)\n",
    "\n",
    "display(Math('K = ' + str(e) + '^{' + str(k) + '} \\mod ' + str(p) + ' = ' + str(K)))\n",
    "display(Math('a = ' + str(g) + '^{' + str(k) + '} \\mod ' + str(p) + ' = ' + str(a)))"
   ]
  },
  {
   "cell_type": "markdown",
   "id": "b75faf7e-ddbc-4dcd-8c90-fcfed5af72db",
   "metadata": {
    "tags": []
   },
   "source": [
    "#### Bob"
   ]
  },
  {
   "cell_type": "code",
   "execution_count": null,
   "id": "efd3fb75-e578-4e6b-b5d6-c958fb23af35",
   "metadata": {},
   "outputs": [],
   "source": [
    "from IPython.display import Math,HTML\n",
    "import math\n",
    "import decimal\n",
    "\n",
    "d = int (decimal.Decimal (input (\"d:\")))\n",
    "p = int (decimal.Decimal (input (\"p:\")))\n",
    "a = int (decimal.Decimal (input (\"a:\")))\n",
    "\n",
    "def calc(a,b,c):\n",
    "    return (a**b)%c\n",
    "\n",
    "K = calc(a,d,p)\n",
    "\n",
    "display(Math('K = ' + str(a) + '^{' + str(d) + '} \\mod ' + str(p) + ' = ' + str(K)))"
   ]
  },
  {
   "cell_type": "markdown",
   "id": "cc0f2ab5-4259-4e03-aae6-64f2878a257f",
   "metadata": {
    "tags": []
   },
   "source": [
    "## RSA"
   ]
  },
  {
   "cell_type": "markdown",
   "id": "ffe411ca-6b78-419e-9cbd-bea77add6437",
   "metadata": {
    "tags": []
   },
   "source": [
    "### Definition\n",
    "\n",
    "$K_{pub}=(n,e)$\n",
    "\n",
    "$K_{pr}=(d)$\n",
    "\n",
    "Eine Verschluesselungsfunktion $e()$ muss umkehrbar sein => es muss eine Funktion $d()$ geben, welche die Wirkung von $e()$  rueckgaenig macht:\n",
    "\n",
    "$d_K(y) = d_K(e_K(x)) = x$\n",
    "\n",
    "Die Kombination von Ver- und Entschluesselung fuehrt dabei auf \n",
    "\n",
    "$d_K(y) = d_K(e_K(x)) = e^{e \\cdot d} = x^1 = x \\mod n$\n",
    "\n",
    "Mit der angegebenen Bedingung in der Form\n",
    "\n",
    "$ d \\cdot e = 1 \\mod \\phi(n)$\n",
    "\n",
    "kann aus dem Geheimtext wieder der Klartet zurueckgewonnen werden.\n",
    "\n",
    "Wird der Satz von Euler mit $i$ potenziert und mit $a$ multipliziert ergibt sich:\n",
    "\n",
    "$a^{i \\phi(n)+1} = a^{i \\phi(n))} \\cdot a = 1 \\cdot a = a \\mod n$\n",
    "\n",
    "Die wesentliche Gleichung fuer RSA ergibt sich, indem der Exponent \n",
    "\n",
    "$i \\cdot \\phi(n) + 1$ druch $ e \\cdot d$ ersetzt wird ($\\mod (\\phi(n))$)\n",
    "\n",
    "Wenn $n$ eine Primzahl ist kann die Eulersche Phi-Funktion berechnet werden und die berechnung des geeheimen Schluessels ist moeglich:\n",
    "\n",
    "$d \\cdot e = 1 \\mod \\phi(n)$"
   ]
  },
  {
   "cell_type": "markdown",
   "id": "e6a72a32-cc09-4ddf-8fa1-d3b99eb2290f",
   "metadata": {
    "tags": []
   },
   "source": [
    "### Key erzeugen"
   ]
  },
  {
   "cell_type": "code",
   "execution_count": null,
   "id": "1a697761-a070-4676-9f0f-2f647b39d414",
   "metadata": {},
   "outputs": [],
   "source": [
    "from IPython.display import Math\n",
    "import math\n",
    "import decimal\n",
    "from sympy import isprime\n",
    "\n",
    "def rsa_key(p,q,e=6157):\n",
    "    n = p*q\n",
    "    phi_n = (p-1)*(q-1)\n",
    "    if (e <= 1 or e >= phi_n):\n",
    "        print(\"e ist schlecht gewaehlt. fuer e sollte folgendes gelten: 1 < e < phi(n)\")\n",
    "    while math.gcd(e,phi_n)>1:\n",
    "         e = e+1        \n",
    "    d = 0\n",
    "    h = 2\n",
    "    while h!=1:\n",
    "          d = d + 1\n",
    "          h = e * d % phi_n\n",
    "    return (n,d,phi_n)\n",
    "\n",
    "p = int (decimal.Decimal (input (\"p:\")))\n",
    "if (not isprime(p)):\n",
    "    print(\"p ist keine Primzahl! -> Private Key kann berechnet werden\")\n",
    "q = int (decimal.Decimal (input (\"q:\")))\n",
    "if (not isprime(q)):\n",
    "    print(\"q ist keine Primzahl! -> Private Key kann berechnet werden\")\n",
    "e = int (decimal.Decimal(input(\"e (standard ist 6157):\"))) \n",
    "\n",
    "n,d,phi_n = rsa_key(p,q,e)\n",
    "display(Math('n = ' + str(n)))\n",
    "display(Math('\\phi(n) = ' +  str(phi_n)))\n",
    "display(Math('K_{pub} = ('+  str(n) + ',' + str(e) +')'))\n",
    "display(Math('K_{pr} = ('+  str(d) +')'))\n"
   ]
  },
  {
   "cell_type": "markdown",
   "id": "bb570e9e-c346-4548-8899-9b0dec1048c9",
   "metadata": {
    "tags": []
   },
   "source": [
    "### Verschluesseln\n",
    "\n",
    "$ y=e_{K_{pub}}(x)=x^e \\mod n $"
   ]
  },
  {
   "cell_type": "code",
   "execution_count": null,
   "id": "a494fc05-7d01-48b7-af60-594899d8c58b",
   "metadata": {},
   "outputs": [],
   "source": [
    "import math\n",
    "import decimal\n",
    "\n",
    "def rsa_encrypt(n,e,x):\n",
    "    y =x**e % n\n",
    "    return y \n",
    "\n",
    "n = int (decimal.Decimal (input (\"n (Public):\")))\n",
    "e = int (decimal.Decimal (input (\"e (Public):\")))\n",
    "x = int (decimal.Decimal (input (\"x (Klartext):\")))\n",
    "\n",
    "y = rsa_encrypt(n,e,x)\n",
    "print (\"y (Geheimtext): \", y)"
   ]
  },
  {
   "cell_type": "markdown",
   "id": "9364dac5-c770-4b2a-93ba-454e58e16cc3",
   "metadata": {
    "tags": []
   },
   "source": [
    "### Entschluesseln\n",
    "\n",
    "$ x=d_{K_{pr}}(y)=y^d \\mod n $"
   ]
  },
  {
   "cell_type": "code",
   "execution_count": null,
   "id": "233d821b-8cb2-4640-9f20-74161c5c5942",
   "metadata": {},
   "outputs": [],
   "source": [
    "import math\n",
    "import decimal\n",
    "\n",
    "def rsa_decrypt(n,d,y):\n",
    "    x =y**d % n\n",
    "    return x \n",
    "\n",
    "\n",
    "n = int (decimal.Decimal (input (\"n (Public):\")))\n",
    "d = int (decimal.Decimal (input (\"d (Private):\")))\n",
    "y = int (decimal.Decimal (input (\"y (Geheimtext):\")))\n",
    "\n",
    "x = rsa_decrypt(n,d,y)\n",
    "print (\"x (Klartext): \", x)"
   ]
  },
  {
   "cell_type": "markdown",
   "id": "ec201aa2-8395-49a1-8868-fa72656180ad",
   "metadata": {
    "tags": []
   },
   "source": [
    "### Signieren\n",
    "\n",
    "$K_{pr} = d$\n",
    "\n",
    "$s=e_{K_{pr}}(x) = x^d \\mod n$\n",
    "\n",
    "=> Es wird $s$ und $x$ veroeffentlicht. Die signatur kann von jedem mit $K_{pub}$ geprueft werden"
   ]
  },
  {
   "cell_type": "code",
   "execution_count": null,
   "id": "aeedfe78-f52d-4dbd-b294-0a1808f027ca",
   "metadata": {},
   "outputs": [],
   "source": [
    "from IPython.display import Math\n",
    "import math\n",
    "import decimal\n",
    "\n",
    "d = int (decimal.Decimal (input (\"d (Private):\")))\n",
    "n = int (decimal.Decimal (input (\"n (Public):\")))\n",
    "x = int (decimal.Decimal (input (\"x (Nachricht):\")))\n",
    "\n",
    "s = x**d%n\n",
    "\n",
    "display(Math('s=x^d \\mod n'))\n",
    "display(Math('s=' + str(x) + '^{' + str(d) +'} \\mod ' + str(n)  + '=' + str(s)))"
   ]
  },
  {
   "cell_type": "markdown",
   "id": "e587daa3-2226-4a9a-85f2-964b27b6f9d3",
   "metadata": {
    "tags": []
   },
   "source": [
    "### Signatur ueberpruefen\n",
    "\n",
    "$K_{pub} = (n, e)$\n",
    "\n",
    "$x = d_{K_{pub}}(s) = s^e \\mod n$\n",
    "\n",
    "=> Wenn das berechnete $x$ mit der Nachricht $x$ uebereinstimmt wurde die Nachricht nicht veraendert"
   ]
  },
  {
   "cell_type": "code",
   "execution_count": null,
   "id": "f9007358-1a08-4873-87f6-eb657a99f250",
   "metadata": {},
   "outputs": [],
   "source": [
    "from IPython.display import Math\n",
    "import math\n",
    "import decimal\n",
    "\n",
    "n = int (decimal.Decimal (input (\"n (Public):\")))\n",
    "e = int (decimal.Decimal (input (\"e (Public):\")))\n",
    "s = int (decimal.Decimal (input (\"s (Signatur):\")))\n",
    "\n",
    "x = s**e%n\n",
    "\n",
    "display(Math('x=s^e \\mod n'))\n",
    "display(Math('x=' + str(s) + '^{' + str(e) +'} \\mod ' + str(n)  + '=' + str(x)))"
   ]
  },
  {
   "cell_type": "markdown",
   "id": "88dfae0b-d95b-4981-8edb-6696d970268a",
   "metadata": {
    "tags": []
   },
   "source": [
    "## ElGamal\n",
    "\n",
    "Nachteil bzgl. RSA:\n",
    "\n",
    "=> Höherer Speicheraufwand"
   ]
  },
  {
   "cell_type": "markdown",
   "id": "933c6504-b2e7-4f7b-84c0-7bc321d85046",
   "metadata": {
    "tags": []
   },
   "source": [
    "### Definition\n",
    "\n",
    "Oeffentlich bekannt:\n",
    " - Eine grosse Primzahl $p$\n",
    " - eine Basis $g$ aus dem Galois-Koerper $GF(p)$\n",
    "    \n",
    "Jeder Teilnehmer waehlt jeweils einen privaten Schluessel\n",
    "$K_{pr} = d$\n",
    "und berechnet den zugehoerigen oeffentlichen Schluessel $K_{pub} = e$ \n",
    "ueber\n",
    "$e=g^d \\mod p$\n",
    "\n",
    "=> Die Ermittlung des privaten Schluessels $K_{pr} =d$ aus dem oeffentlichen  ist bei genuegend grossem Modul $p$ nicht durchfuehrbar."
   ]
  },
  {
   "cell_type": "markdown",
   "id": "e2fa8c1d-09f6-4a22-a346-143a7f6cdb86",
   "metadata": {
    "tags": []
   },
   "source": [
    "### Verschluesselung\n",
    "\n",
    "$K_{pub} = (p,g,e)$\n",
    "\n",
    "$a=g^k \\mod p$\n",
    "\n",
    "$b=e^k \\cdot m \\mod p$\n",
    "\n",
    "der Geheimtext besteht aus $a$ und $b$\n",
    "\n",
    "k muss teilerfremd zu p-1 sein. \n",
    "\n",
    "__Obacht__: Aus $g^k$ muss theoretisch jedes beliebige $a$ erzeugt werden. Falls $g^k$ nicht primitiv ist, wären die möglichen element von a schon von vornherein eingeschränkt. "
   ]
  },
  {
   "cell_type": "code",
   "execution_count": null,
   "id": "da83af5e-bb40-4a45-a478-d8592444fa2a",
   "metadata": {},
   "outputs": [],
   "source": [
    "from IPython.display import Math\n",
    "import math\n",
    "import decimal\n",
    "\n",
    "p = int (decimal.Decimal (input (\"p (Public):\")))\n",
    "g = int (decimal.Decimal (input (\"g (Public):\")))\n",
    "e = int (decimal.Decimal (input (\"e (Public):\")))\n",
    "k = int (decimal.Decimal (input (\"k (Zufall):\")))\n",
    "m = int (decimal.Decimal (input (\"m (Klartext):\")))\n",
    "\n",
    "a = g**k%p\n",
    "b = ((e**k)*m)%p\n",
    "\n",
    "display(Math('a=g^k \\mod p'))\n",
    "display(Math('a=' + str(g) + '^{' + str(k) +'} \\mod ' + str(p)  + '=' + str(a)))\n",
    "\n",
    "display(Math('b=e^k \\cdot m \\mod p'))\n",
    "display(Math('b=' + str(e) + '^{' + str(k) +'} \\cdot ' + str(m) + ' \\mod ' + str(p)  + '=' + str(b)))"
   ]
  },
  {
   "cell_type": "markdown",
   "id": "7946b83a-8bc2-4a16-9a4e-f5bf338d7bd0",
   "metadata": {
    "tags": []
   },
   "source": [
    "### Entschluesselung\n",
    "\n",
    "$K_{pr} = d$\n",
    "\n",
    "$m = a^{p-d-1} \\cdot b \\mod p$"
   ]
  },
  {
   "cell_type": "code",
   "execution_count": null,
   "id": "79aead8e-333d-46df-9b2b-0413e94f8c47",
   "metadata": {},
   "outputs": [],
   "source": [
    "from IPython.display import Math\n",
    "import math\n",
    "import decimal\n",
    "\n",
    "d = int (decimal.Decimal (input (\"d (Private):\")))\n",
    "p = int (decimal.Decimal (input (\"p (Public):\")))\n",
    "a = int (decimal.Decimal (input (\"a (Geheimtext):\")))\n",
    "b = int (decimal.Decimal (input (\"b (Geheimtext):\")))\n",
    "\n",
    "m = (a**(p-d-1))*b%p\n",
    "\n",
    "display(Math('m = a^{p-d-1} \\cdot b \\mod p'))\n",
    "display(Math('m=' + str(a) + '^{' + str(p) + '-' + str(d) + '-1} \\cdot ' + str(b) + '\\mod ' + str(p)  + '=' + str(m)))"
   ]
  }
 ],
 "metadata": {
  "kernelspec": {
   "display_name": "Python 3",
   "language": "python",
   "name": "python3"
  },
  "language_info": {
   "codemirror_mode": {
    "name": "ipython",
    "version": 3
   },
   "file_extension": ".py",
   "mimetype": "text/x-python",
   "name": "python",
   "nbconvert_exporter": "python",
   "pygments_lexer": "ipython3",
   "version": "3.9.12"
  },
  "toc-autonumbering": true,
  "toc-showcode": false,
  "toc-showmarkdowntxt": false
 },
 "nbformat": 4,
 "nbformat_minor": 5
}
