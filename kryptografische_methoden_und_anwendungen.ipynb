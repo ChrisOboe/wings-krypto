{
 "cells": [
  {
   "cell_type": "markdown",
   "id": "4f6a2176-3cb5-45cd-b008-e47482183abc",
   "metadata": {},
   "source": [
    "# Gruppen auf endlichen Mengen\n",
    "## Gruppen\n",
    "\n",
    "### Definition Additive Gruppe\n",
    "\n",
    "$\\underline{G} = \\{0, 1, 2, 3, ..., m-1\\}$, wobei $m > 0$\n",
    "\n",
    "$a \\oplus b = r$\n",
    "\n",
    "$\\frac{a+b}{m}=q+\\frac{r}{m} $$\\iff$$ a + b = q \\cdot m + r $\n",
    "\n",
    "#### Additiv inverses Element\n",
    "\n",
    "$a \\oplus (-a) = a \\oplus (m - a) = 0$\n",
    "$\\iff$\n",
    "$\\frac{a+(m-a)}{m}=1+\\frac{0}{m}$"
   ]
  },
  {
   "cell_type": "code",
   "execution_count": 4,
   "id": "4fc2fb4b-6a02-412b-a38a-d9f2836e21c3",
   "metadata": {},
   "outputs": [
    {
     "name": "stdin",
     "output_type": "stream",
     "text": [
      "m: 5\n",
      "a: 2\n",
      "b: 4\n"
     ]
    },
    {
     "name": "stdout",
     "output_type": "stream",
     "text": [
      "m = 5 : 2 ⊕ 4 = 1\n"
     ]
    }
   ],
   "source": [
    "import math\n",
    "import decimal\n",
    "\n",
    "def gadd(m,a,b):\n",
    "    return (a+b)%m\n",
    "\n",
    "m = int (decimal.Decimal (input (\"m:\")))\n",
    "a = int (decimal.Decimal (input (\"a:\")))\n",
    "b = int (decimal.Decimal (input (\"b:\")))\n",
    "\n",
    "print (\"m =\",m, \":\", a, \"⊕\", b, \"=\",gadd(m,a,b))"
   ]
  },
  {
   "cell_type": "markdown",
   "id": "b3d3881d-9967-4792-a5e0-574781c91507",
   "metadata": {},
   "source": [
    "### Definition Multiplikative Gruppe\n",
    "\n",
    "$\\underline{G} = \\{0, 1, 2, 3, ..., p-1\\}$, wobei $p$ eine Primzahl ist.\n",
    "\n",
    "$a \\odot b = r$\n",
    "\n",
    "$\\frac{a \\cdot b}{p}=q+\\frac{r}{p} $$\\iff$$ a \\cdot b = q \\cdot p + r $\n",
    "\n",
    "#### Multiplikativ inverses Element\n",
    "\n",
    "$ c \\odot a = a \\odot c = 1 $$\\iff$$ c \\cdot a = q \\cdot p + 1$"
   ]
  },
  {
   "cell_type": "code",
   "execution_count": 7,
   "id": "a8240fa9-52b9-492e-9779-ae4a2dd70ed4",
   "metadata": {},
   "outputs": [
    {
     "name": "stdin",
     "output_type": "stream",
     "text": [
      "p: 5\n",
      "a: 2\n",
      "b: 2\n"
     ]
    },
    {
     "name": "stdout",
     "output_type": "stream",
     "text": [
      "p = 5 : 2 ⊙ 2 = 4\n"
     ]
    }
   ],
   "source": [
    "import math\n",
    "import decimal\n",
    "\n",
    "def gmul(p,a,b):\n",
    "    return (a*b)%p\n",
    "\n",
    "p = int (decimal.Decimal (input (\"p:\")))\n",
    "a = int (decimal.Decimal (input (\"a:\")))\n",
    "b = int (decimal.Decimal (input (\"b:\")))\n",
    "\n",
    "print (\"p =\",p, \":\", a, \"⊙\", b, \"=\",gmul(p,a,b))"
   ]
  },
  {
   "cell_type": "markdown",
   "id": "7ff4ad75-4fdf-48cb-b2a1-0194543a5b97",
   "metadata": {
    "tags": []
   },
   "source": [
    "### Definition Zahlenkoerper\n",
    "\n",
    "Die Menge $\\underline{F}$ sei ein Zahlenkoerper bezueglich der Verknuepfungen $\\oplus\\$ und $\\odot$, wenn folgende Bedingungen erfuellt sind. \n",
    "\n",
    "  1. $\\underline{F}$ ist bezueglich $\\oplus$ eine additive Gruppe. Das Identitaetselement dieser Gruppe sei das Nullelement.\n",
    "  2. Die von Null verschiedenen Elemente von $\\underline{F}$  bilden eine multiplikative Gruppe bezueglich $\\odot$. Das Identitaetselement dieser Gruppe sei das Einselement.\n",
    "  3. Die Multiplication $\\odot$ ist distributiv bezueglich der Addition $\\oplus$, so dass gilt $a \\odot (b \\oplus c) = (a \\odot b)\\oplus(a \\odot c)$ fuer $a, b, c \\in \\underline{F}$"
   ]
  },
  {
   "cell_type": "markdown",
   "id": "36aedf5a-28d1-4827-b227-fcb0657e8190",
   "metadata": {},
   "source": [
    "### Multiplikativ Inverses Element"
   ]
  },
  {
   "cell_type": "code",
   "execution_count": 2,
   "id": "eae0d662-edd6-4435-9ebf-6dbc67e14542",
   "metadata": {},
   "outputs": [
    {
     "name": "stdin",
     "output_type": "stream",
     "text": [
      "n: 7\n",
      "a: 4\n"
     ]
    },
    {
     "data": {
      "text/latex": [
       "$\\displaystyle nx+ay=1$"
      ],
      "text/plain": [
       "<IPython.core.display.Math object>"
      ]
     },
     "metadata": {},
     "output_type": "display_data"
    },
    {
     "data": {
      "text/latex": [
       "$\\displaystyle y=\\frac{1-nx}{a}$"
      ],
      "text/plain": [
       "<IPython.core.display.Math object>"
      ]
     },
     "metadata": {},
     "output_type": "display_data"
    },
    {
     "data": {
      "text/html": [
       "<div>\n",
       "<style scoped>\n",
       "    .dataframe tbody tr th:only-of-type {\n",
       "        vertical-align: middle;\n",
       "    }\n",
       "\n",
       "    .dataframe tbody tr th {\n",
       "        vertical-align: top;\n",
       "    }\n",
       "\n",
       "    .dataframe thead th {\n",
       "        text-align: right;\n",
       "    }\n",
       "</style>\n",
       "<table border=\"1\" class=\"dataframe\">\n",
       "  <thead>\n",
       "    <tr style=\"text-align: right;\">\n",
       "      <th></th>\n",
       "      <th>n</th>\n",
       "      <th>a</th>\n",
       "      <th>q</th>\n",
       "      <th>r</th>\n",
       "      <th>x</th>\n",
       "      <th>y</th>\n",
       "    </tr>\n",
       "  </thead>\n",
       "  <tbody>\n",
       "    <tr>\n",
       "      <th>0</th>\n",
       "      <td>7</td>\n",
       "      <td>4</td>\n",
       "      <td>1</td>\n",
       "      <td>3</td>\n",
       "      <td>-1.0</td>\n",
       "      <td>2.0</td>\n",
       "    </tr>\n",
       "    <tr>\n",
       "      <th>1</th>\n",
       "      <td>4</td>\n",
       "      <td>3</td>\n",
       "      <td>1</td>\n",
       "      <td>1</td>\n",
       "      <td>1.0</td>\n",
       "      <td>-1.0</td>\n",
       "    </tr>\n",
       "    <tr>\n",
       "      <th>2</th>\n",
       "      <td>3</td>\n",
       "      <td>1</td>\n",
       "      <td>3</td>\n",
       "      <td>0</td>\n",
       "      <td>0.0</td>\n",
       "      <td>1.0</td>\n",
       "    </tr>\n",
       "  </tbody>\n",
       "</table>\n",
       "</div>"
      ],
      "text/plain": [
       "   n  a  q  r    x    y\n",
       "0  7  4  1  3 -1.0  2.0\n",
       "1  4  3  1  1  1.0 -1.0\n",
       "2  3  1  3  0  0.0  1.0"
      ]
     },
     "metadata": {},
     "output_type": "display_data"
    },
    {
     "data": {
      "text/latex": [
       "$\\displaystyle 7\\cdot-1.0+4\\cdot2.0=1 /mod(7)$"
      ],
      "text/plain": [
       "<IPython.core.display.Math object>"
      ]
     },
     "metadata": {},
     "output_type": "display_data"
    },
    {
     "data": {
      "text/latex": [
       "$\\displaystyle a \\cdot a^{-1} = 1$"
      ],
      "text/plain": [
       "<IPython.core.display.Math object>"
      ]
     },
     "metadata": {},
     "output_type": "display_data"
    },
    {
     "data": {
      "text/latex": [
       "$\\displaystyle 4\\cdot a^{-1} = 1$"
      ],
      "text/plain": [
       "<IPython.core.display.Math object>"
      ]
     },
     "metadata": {},
     "output_type": "display_data"
    },
    {
     "data": {
      "text/latex": [
       "$\\displaystyle 4\\cdot2.0=1$"
      ],
      "text/plain": [
       "<IPython.core.display.Math object>"
      ]
     },
     "metadata": {},
     "output_type": "display_data"
    },
    {
     "data": {
      "text/latex": [
       "$\\displaystyle a^{-1} =2.0$"
      ],
      "text/plain": [
       "<IPython.core.display.Math object>"
      ]
     },
     "metadata": {},
     "output_type": "display_data"
    }
   ],
   "source": [
    "from IPython.display import Math,HTML\n",
    "import math\n",
    "import decimal\n",
    "import pandas as pd\n",
    "\n",
    "table = []\n",
    "\n",
    "def mulInv(n, a, depth =  1):\n",
    "    table.append({\"n\": n, \"a\": a, \"q\": int(n/a), \"r\": n%a})\n",
    "    if n%a == 0:\n",
    "        return depth\n",
    "    return mulInv(a, n%a, depth+1)\n",
    "                  \n",
    "def calcXy():\n",
    "    \n",
    "    first = True\n",
    "    lastY = 1\n",
    "    for i in reversed(table):\n",
    "        if first:\n",
    "            i['x'] = 0\n",
    "            i['y'] = 1\n",
    "            first = False\n",
    "        else:\n",
    "            i['x'] = lastY\n",
    "            i['y'] = (1-i['n']*i['x'])/i['a']\n",
    "            lastY = i['y']\n",
    "\n",
    "def getAInverse():\n",
    "    row = table[0]\n",
    "\n",
    "    display(Math(str(row['n']) + '\\cdot' + str(row['x']) + '+' + str(row['a']) + '\\cdot' + str(row['y']) + '=1 /mod(' + str(row['n']) + ')' ))\n",
    "    display(Math('a \\cdot a^{-1} = 1'))\n",
    "    display(Math(str(row['a']) + '\\cdot a^{-1} = 1'))\n",
    "    display(Math(str(row['a']) + '\\cdot' + str(row['y']) + '=1'))\n",
    "    \n",
    "    if (row['y'] > 0):\n",
    "        return row['y']\n",
    "    else:\n",
    "        return row['n']+row['y']\n",
    "            \n",
    "def printTable():\n",
    "    d = pd.DataFrame.from_dict(table)\n",
    "    display(d)\n",
    "\n",
    "    \n",
    "    \n",
    "n = int (decimal.Decimal (input (\"n:\")))\n",
    "a = int (decimal.Decimal (input (\"a:\")))\n",
    "\n",
    "mulInv(n,a)\n",
    "calcXy()\n",
    "display(Math('nx+ay=1'))\n",
    "display(Math('y=\\\\frac{1-nx}{a}'))\n",
    "printTable()\n",
    "display(Math('a^{-1} =' + str(getAInverse())))\n"
   ]
  },
  {
   "cell_type": "markdown",
   "id": "17b902bb-faa6-457d-9be9-8b29a2e0e996",
   "metadata": {},
   "source": [
    "# Diffie-Hellman Schlüsselaustausch\n",
    "\n",
    "Alice und Bob vereinbaren Modul $p$ und Basis $g$\n",
    "\n",
    "Alice:\n",
    " - Erstellt (geheim): $a$\n",
    " - Berechnet: $\\alpha = g^a \\mod p$\n",
    " - Sendet $\\alpha$ zu Bob\n",
    " - Empängt $\\beta$ von Bob\n",
    " - Berechnet: $\\beta^a \\mod p$\n",
    "\n",
    "Bob:\n",
    " - Erstellt (geheim): $b$\n",
    " - Berechnet: $\\beta = g^b \\mod p$\n",
    " - Sendet $\\beta$ zu Alice\n",
    " - Empängt $\\alpha$ von Alice\n",
    " - Berechnet: $\\alpha^b \\mod p$\n",
    " \n",
    " $K = g^{a \\cdot b} \\mod p = \\beta^a \\mod p = \\alpha^b \\mod p$\n"
   ]
  },
  {
   "cell_type": "code",
   "execution_count": null,
   "id": "139acc88-48d9-4be0-9b06-c825aaccd095",
   "metadata": {},
   "outputs": [],
   "source": [
    "from IPython.display import Math,HTML\n",
    "import math\n",
    "import decimal\n",
    "\n",
    "p = int (decimal.Decimal (input (\"p:\")))\n",
    "g = int (decimal.Decimal (input (\"g:\")))\n",
    "a = int (decimal.Decimal (input (\"a:\")))\n",
    "b = int (decimal.Decimal (input (\"b:\")))\n",
    "\n",
    "calcAlpha(g,a,p):\n",
    "    if (g^a > 100000): \n",
    "        "
   ]
  },
  {
   "cell_type": "markdown",
   "id": "026c2351-6ef6-418d-869c-af32b6cc2a7c",
   "metadata": {},
   "source": [
    "# Modulare reduktion\n",
    "\n",
    "Beispiel:\n",
    "\n",
    "$g^{a+b} = g^b \\cdot g^b$\n",
    "\n",
    "$17^{23} \\mod 26$\n",
    "\n",
    "aufsplitten funktioniert nur wenn $g^a > p$ \n",
    "\n",
    "$17^{23} = 17^4 \\cdot 17^4 \\cdot 17^4 \\cdot 17^4 \\cdot 17^4 \\cdot 17^4 \\cdot 17^1 = $\n",
    "\n",
    "$17^4 \\mod 26 = 9$\n",
    "\n",
    "$17^{23} = 9 \\cdot 9 \\cdot 9 \\cdot 9 \\cdot 9 \\cdot 9 \\cdot 17 = 9^3 \\cdot 9^3 \\cdot 17$\n",
    "\n",
    "$9^3 \\mod 26 = 1$\n",
    "\n",
    "$17^{23} = 1 \\cdot 1 \\cdot 17$"
   ]
  },
  {
   "cell_type": "code",
   "execution_count": null,
   "id": "6973bcfc-08eb-4f12-90fe-9ab2a828c0d5",
   "metadata": {},
   "outputs": [],
   "source": []
  },
  {
   "cell_type": "code",
   "execution_count": null,
   "id": "3ce50a28-ea95-4a1c-a92e-2f3e0dcd5620",
   "metadata": {},
   "outputs": [],
   "source": []
  },
  {
   "cell_type": "code",
   "execution_count": null,
   "id": "4010b6d4-aaf8-439b-9e14-3e357915af05",
   "metadata": {},
   "outputs": [],
   "source": []
  },
  {
   "cell_type": "code",
   "execution_count": null,
   "id": "ec8af065-1857-47e9-8d3b-b906b1f343a3",
   "metadata": {},
   "outputs": [],
   "source": []
  },
  {
   "cell_type": "code",
   "execution_count": null,
   "id": "9f5b3307-65e5-4fbe-aea0-9f514293e3da",
   "metadata": {},
   "outputs": [],
   "source": []
  },
  {
   "cell_type": "code",
   "execution_count": null,
   "id": "fc4c8547-994f-4771-8695-e157c7578ac7",
   "metadata": {},
   "outputs": [],
   "source": []
  },
  {
   "cell_type": "markdown",
   "id": "7ede12e1-0b23-4eaf-a292-0cdff2907533",
   "metadata": {},
   "source": [
    "# GGT berechnen"
   ]
  },
  {
   "cell_type": "code",
   "execution_count": 8,
   "id": "23b35c12-433b-4b91-88b6-065e34480c6d",
   "metadata": {
    "tags": []
   },
   "outputs": [
    {
     "name": "stdin",
     "output_type": "stream",
     "text": [
      "Zahl 1: 234465\n",
      "Zahl 2: 214\n"
     ]
    },
    {
     "name": "stdout",
     "output_type": "stream",
     "text": [
      "GGT Ansatz 1: 1\n",
      "GGT Ansatz 2: 1\n"
     ]
    }
   ],
   "source": [
    "import math\n",
    "import decimal\n",
    "\n",
    "def ggt_v01(x, y):\n",
    "    while x > 0 and y > 0:\n",
    "        if x >= y:\n",
    "            x = x - y\n",
    "        else:\n",
    "            y = y - x\n",
    "    return x+y\n",
    "\n",
    "def ggt_v02(x, y):\n",
    "    rest = 1\n",
    "    while rest != 0: \n",
    "        if x >= y:\n",
    "            rest = x % y\n",
    "            x = y\n",
    "            y = rest\n",
    "            ggt = x\n",
    "        else:\n",
    "            rest = y % x\n",
    "            y = x\n",
    "            x = rest\n",
    "            ggt=y\n",
    "    return ggt\n",
    "\n",
    "\n",
    "p = int (decimal.Decimal (input (\"Zahl 1:\")))\n",
    "q = int (decimal.Decimal (input (\"Zahl 2:\")))\n",
    "\n",
    "print(\"GGT Ansatz 1:\",ggt_v01(p,q))\n",
    "print(\"GGT Ansatz 2:\",ggt_v02(p,q))\n"
   ]
  },
  {
   "cell_type": "markdown",
   "id": "ffe411ca-6b78-419e-9cbd-bea77add6437",
   "metadata": {},
   "source": [
    "# rsa key erstellen"
   ]
  },
  {
   "cell_type": "code",
   "execution_count": 6,
   "id": "1a697761-a070-4676-9f0f-2f647b39d414",
   "metadata": {},
   "outputs": [
    {
     "name": "stdin",
     "output_type": "stream",
     "text": [
      "p: 24\n",
      "q: 76\n"
     ]
    },
    {
     "name": "stdout",
     "output_type": "stream",
     "text": [
      "n: 1824\n",
      "e: 6157\n",
      "d: 1393\n",
      "phi_n: 1725\n"
     ]
    }
   ],
   "source": [
    "import math\n",
    "\n",
    "def rsa_key(p,q):\n",
    "    n = p*q\n",
    "    phi_n = (p-1)*(q-1)\n",
    "    e = 6157\n",
    "    while math.gcd(e,phi_n)>1:\n",
    "         e = e+1        \n",
    "    d = 0\n",
    "    h = 2\n",
    "    while h!=1:\n",
    "          d = d + 1\n",
    "          h = e * d % phi_n\n",
    "    return (n,e,d,phi_n)\n",
    "\n",
    "p = int (decimal.Decimal (input (\"p:\")))\n",
    "q = int (decimal.Decimal (input (\"q:\")))\n",
    "\n",
    "n,e,d,phi_n = rsa_key(p,q)\n",
    "print(\"n:\", n)\n",
    "print(\"e:\", e)\n",
    "print(\"d:\", d)\n",
    "print(\"phi_n:\", phi_n)\n"
   ]
  }
 ],
 "metadata": {
  "kernelspec": {
   "display_name": "Python 3 (ipykernel)",
   "language": "python",
   "name": "python3"
  },
  "language_info": {
   "codemirror_mode": {
    "name": "ipython",
    "version": 3
   },
   "file_extension": ".py",
   "mimetype": "text/x-python",
   "name": "python",
   "nbconvert_exporter": "python",
   "pygments_lexer": "ipython3",
   "version": "3.9.9"
  }
 },
 "nbformat": 4,
 "nbformat_minor": 5
}
